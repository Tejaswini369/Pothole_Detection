{
  "cells": [
    {
      "cell_type": "code",
      "execution_count": null,
      "metadata": {
        "colab": {
          "base_uri": "https://localhost:8080/"
        },
        "id": "wfVzXgMjKrq_",
        "outputId": "d1b978c5-77a0-4655-f6c9-b490edeec4b9"
      },
      "outputs": [
        {
          "name": "stdout",
          "output_type": "stream",
          "text": [
            "Tue Apr 23 19:17:02 2024       \n",
            "+---------------------------------------------------------------------------------------+\n",
            "| NVIDIA-SMI 535.104.05             Driver Version: 535.104.05   CUDA Version: 12.2     |\n",
            "|-----------------------------------------+----------------------+----------------------+\n",
            "| GPU  Name                 Persistence-M | Bus-Id        Disp.A | Volatile Uncorr. ECC |\n",
            "| Fan  Temp   Perf          Pwr:Usage/Cap |         Memory-Usage | GPU-Util  Compute M. |\n",
            "|                                         |                      |               MIG M. |\n",
            "|=========================================+======================+======================|\n",
            "|   0  Tesla T4                       Off | 00000000:00:04.0 Off |                    0 |\n",
            "| N/A   46C    P8              12W /  70W |      0MiB / 15360MiB |      0%      Default |\n",
            "|                                         |                      |                  N/A |\n",
            "+-----------------------------------------+----------------------+----------------------+\n",
            "                                                                                         \n",
            "+---------------------------------------------------------------------------------------+\n",
            "| Processes:                                                                            |\n",
            "|  GPU   GI   CI        PID   Type   Process name                            GPU Memory |\n",
            "|        ID   ID                                                             Usage      |\n",
            "|=======================================================================================|\n",
            "|  No running processes found                                                           |\n",
            "+---------------------------------------------------------------------------------------+\n",
            "nvcc: NVIDIA (R) Cuda compiler driver\n",
            "Copyright (c) 2005-2023 NVIDIA Corporation\n",
            "Built on Tue_Aug_15_22:02:13_PDT_2023\n",
            "Cuda compilation tools, release 12.2, V12.2.140\n",
            "Build cuda_12.2.r12.2/compiler.33191640_0\n",
            "True\n",
            "12.1\n"
          ]
        }
      ],
      "source": [
        "# Check the NVIDIA driver version\n",
        "!nvidia-smi\n",
        "\n",
        "# Check the CUDA version\n",
        "!nvcc --version\n",
        "\n",
        "# Verify CUDA is available in PyTorch\n",
        "import torch\n",
        "print(torch.cuda.is_available())\n",
        "print(torch.version.cuda)"
      ]
    },
    {
      "cell_type": "code",
      "execution_count": null,
      "metadata": {
        "colab": {
          "base_uri": "https://localhost:8080/"
        },
        "id": "yBg3-hRoLjyg",
        "outputId": "0e678a0a-c6f9-43b0-c48d-5c9343d3d1f2"
      },
      "outputs": [
        {
          "name": "stdout",
          "output_type": "stream",
          "text": [
            "Requirement already satisfied: tensorflow in /usr/local/lib/python3.10/dist-packages (2.15.0)\n",
            "Requirement already satisfied: absl-py>=1.0.0 in /usr/local/lib/python3.10/dist-packages (from tensorflow) (1.4.0)\n",
            "Requirement already satisfied: astunparse>=1.6.0 in /usr/local/lib/python3.10/dist-packages (from tensorflow) (1.6.3)\n",
            "Requirement already satisfied: flatbuffers>=23.5.26 in /usr/local/lib/python3.10/dist-packages (from tensorflow) (24.3.25)\n",
            "Requirement already satisfied: gast!=0.5.0,!=0.5.1,!=0.5.2,>=0.2.1 in /usr/local/lib/python3.10/dist-packages (from tensorflow) (0.5.4)\n",
            "Requirement already satisfied: google-pasta>=0.1.1 in /usr/local/lib/python3.10/dist-packages (from tensorflow) (0.2.0)\n",
            "Requirement already satisfied: h5py>=2.9.0 in /usr/local/lib/python3.10/dist-packages (from tensorflow) (3.9.0)\n",
            "Requirement already satisfied: libclang>=13.0.0 in /usr/local/lib/python3.10/dist-packages (from tensorflow) (18.1.1)\n",
            "Requirement already satisfied: ml-dtypes~=0.2.0 in /usr/local/lib/python3.10/dist-packages (from tensorflow) (0.2.0)\n",
            "Requirement already satisfied: numpy<2.0.0,>=1.23.5 in /usr/local/lib/python3.10/dist-packages (from tensorflow) (1.25.2)\n",
            "Requirement already satisfied: opt-einsum>=2.3.2 in /usr/local/lib/python3.10/dist-packages (from tensorflow) (3.3.0)\n",
            "Requirement already satisfied: packaging in /usr/local/lib/python3.10/dist-packages (from tensorflow) (24.0)\n",
            "Requirement already satisfied: protobuf!=4.21.0,!=4.21.1,!=4.21.2,!=4.21.3,!=4.21.4,!=4.21.5,<5.0.0dev,>=3.20.3 in /usr/local/lib/python3.10/dist-packages (from tensorflow) (3.20.3)\n",
            "Requirement already satisfied: setuptools in /usr/local/lib/python3.10/dist-packages (from tensorflow) (67.7.2)\n",
            "Requirement already satisfied: six>=1.12.0 in /usr/local/lib/python3.10/dist-packages (from tensorflow) (1.16.0)\n",
            "Requirement already satisfied: termcolor>=1.1.0 in /usr/local/lib/python3.10/dist-packages (from tensorflow) (2.4.0)\n",
            "Requirement already satisfied: typing-extensions>=3.6.6 in /usr/local/lib/python3.10/dist-packages (from tensorflow) (4.11.0)\n",
            "Requirement already satisfied: wrapt<1.15,>=1.11.0 in /usr/local/lib/python3.10/dist-packages (from tensorflow) (1.14.1)\n",
            "Requirement already satisfied: tensorflow-io-gcs-filesystem>=0.23.1 in /usr/local/lib/python3.10/dist-packages (from tensorflow) (0.36.0)\n",
            "Requirement already satisfied: grpcio<2.0,>=1.24.3 in /usr/local/lib/python3.10/dist-packages (from tensorflow) (1.62.2)\n",
            "Requirement already satisfied: tensorboard<2.16,>=2.15 in /usr/local/lib/python3.10/dist-packages (from tensorflow) (2.15.2)\n",
            "Requirement already satisfied: tensorflow-estimator<2.16,>=2.15.0 in /usr/local/lib/python3.10/dist-packages (from tensorflow) (2.15.0)\n",
            "Requirement already satisfied: keras<2.16,>=2.15.0 in /usr/local/lib/python3.10/dist-packages (from tensorflow) (2.15.0)\n",
            "Requirement already satisfied: wheel<1.0,>=0.23.0 in /usr/local/lib/python3.10/dist-packages (from astunparse>=1.6.0->tensorflow) (0.43.0)\n",
            "Requirement already satisfied: google-auth<3,>=1.6.3 in /usr/local/lib/python3.10/dist-packages (from tensorboard<2.16,>=2.15->tensorflow) (2.27.0)\n",
            "Requirement already satisfied: google-auth-oauthlib<2,>=0.5 in /usr/local/lib/python3.10/dist-packages (from tensorboard<2.16,>=2.15->tensorflow) (1.2.0)\n",
            "Requirement already satisfied: markdown>=2.6.8 in /usr/local/lib/python3.10/dist-packages (from tensorboard<2.16,>=2.15->tensorflow) (3.6)\n",
            "Requirement already satisfied: requests<3,>=2.21.0 in /usr/local/lib/python3.10/dist-packages (from tensorboard<2.16,>=2.15->tensorflow) (2.31.0)\n",
            "Requirement already satisfied: tensorboard-data-server<0.8.0,>=0.7.0 in /usr/local/lib/python3.10/dist-packages (from tensorboard<2.16,>=2.15->tensorflow) (0.7.2)\n",
            "Requirement already satisfied: werkzeug>=1.0.1 in /usr/local/lib/python3.10/dist-packages (from tensorboard<2.16,>=2.15->tensorflow) (3.0.2)\n",
            "Requirement already satisfied: cachetools<6.0,>=2.0.0 in /usr/local/lib/python3.10/dist-packages (from google-auth<3,>=1.6.3->tensorboard<2.16,>=2.15->tensorflow) (5.3.3)\n",
            "Requirement already satisfied: pyasn1-modules>=0.2.1 in /usr/local/lib/python3.10/dist-packages (from google-auth<3,>=1.6.3->tensorboard<2.16,>=2.15->tensorflow) (0.4.0)\n",
            "Requirement already satisfied: rsa<5,>=3.1.4 in /usr/local/lib/python3.10/dist-packages (from google-auth<3,>=1.6.3->tensorboard<2.16,>=2.15->tensorflow) (4.9)\n",
            "Requirement already satisfied: requests-oauthlib>=0.7.0 in /usr/local/lib/python3.10/dist-packages (from google-auth-oauthlib<2,>=0.5->tensorboard<2.16,>=2.15->tensorflow) (1.3.1)\n",
            "Requirement already satisfied: charset-normalizer<4,>=2 in /usr/local/lib/python3.10/dist-packages (from requests<3,>=2.21.0->tensorboard<2.16,>=2.15->tensorflow) (3.3.2)\n",
            "Requirement already satisfied: idna<4,>=2.5 in /usr/local/lib/python3.10/dist-packages (from requests<3,>=2.21.0->tensorboard<2.16,>=2.15->tensorflow) (3.7)\n",
            "Requirement already satisfied: urllib3<3,>=1.21.1 in /usr/local/lib/python3.10/dist-packages (from requests<3,>=2.21.0->tensorboard<2.16,>=2.15->tensorflow) (2.0.7)\n",
            "Requirement already satisfied: certifi>=2017.4.17 in /usr/local/lib/python3.10/dist-packages (from requests<3,>=2.21.0->tensorboard<2.16,>=2.15->tensorflow) (2024.2.2)\n",
            "Requirement already satisfied: MarkupSafe>=2.1.1 in /usr/local/lib/python3.10/dist-packages (from werkzeug>=1.0.1->tensorboard<2.16,>=2.15->tensorflow) (2.1.5)\n",
            "Requirement already satisfied: pyasn1<0.7.0,>=0.4.6 in /usr/local/lib/python3.10/dist-packages (from pyasn1-modules>=0.2.1->google-auth<3,>=1.6.3->tensorboard<2.16,>=2.15->tensorflow) (0.6.0)\n",
            "Requirement already satisfied: oauthlib>=3.0.0 in /usr/local/lib/python3.10/dist-packages (from requests-oauthlib>=0.7.0->google-auth-oauthlib<2,>=0.5->tensorboard<2.16,>=2.15->tensorflow) (3.2.2)\n"
          ]
        }
      ],
      "source": [
        "pip install tensorflow\n"
      ]
    },
    {
      "cell_type": "code",
      "execution_count": null,
      "metadata": {
        "id": "Lk8iHcTsMV3o"
      },
      "outputs": [],
      "source": [
        "!unzip -q /content/PotholeClassification.v2i.folder.zip -d ./"
      ]
    },
    {
      "cell_type": "code",
      "execution_count": null,
      "metadata": {
        "colab": {
          "base_uri": "https://localhost:8080/"
        },
        "id": "UoJ1VBfLLztA",
        "outputId": "6259b9b9-b89a-4a52-9298-ce15e62cfb7f"
      },
      "outputs": [
        {
          "name": "stdout",
          "output_type": "stream",
          "text": [
            "Found 1794 images belonging to 2 classes.\n",
            "Found 236 images belonging to 2 classes.\n",
            "Epoch 1/10\n",
            "112/112 [==============================] - 23s 152ms/step - loss: 0.1827 - accuracy: 0.9691 - val_loss: 2.2656 - val_accuracy: 0.5402\n",
            "Epoch 2/10\n",
            "112/112 [==============================] - 17s 147ms/step - loss: 0.1169 - accuracy: 0.9702 - val_loss: 0.7555 - val_accuracy: 0.5357\n",
            "Epoch 3/10\n",
            "112/112 [==============================] - 16s 147ms/step - loss: 0.0977 - accuracy: 0.9741 - val_loss: 0.9041 - val_accuracy: 0.6830\n",
            "Epoch 4/10\n",
            "112/112 [==============================] - 17s 151ms/step - loss: 0.0812 - accuracy: 0.9781 - val_loss: 2.3179 - val_accuracy: 0.6250\n",
            "Epoch 5/10\n",
            "112/112 [==============================] - 16s 142ms/step - loss: 0.0848 - accuracy: 0.9786 - val_loss: 0.8586 - val_accuracy: 0.7500\n",
            "Epoch 6/10\n",
            "112/112 [==============================] - 16s 147ms/step - loss: 0.0705 - accuracy: 0.9814 - val_loss: 1.0226 - val_accuracy: 0.6920\n",
            "Epoch 7/10\n",
            "112/112 [==============================] - 16s 146ms/step - loss: 0.0683 - accuracy: 0.9831 - val_loss: 0.5031 - val_accuracy: 0.8170\n",
            "Epoch 8/10\n",
            "112/112 [==============================] - 17s 150ms/step - loss: 0.0695 - accuracy: 0.9781 - val_loss: 0.5459 - val_accuracy: 0.7812\n",
            "Epoch 9/10\n",
            "112/112 [==============================] - 16s 142ms/step - loss: 0.0697 - accuracy: 0.9803 - val_loss: 0.6845 - val_accuracy: 0.7545\n",
            "Epoch 10/10\n",
            "112/112 [==============================] - 16s 146ms/step - loss: 0.0632 - accuracy: 0.9820 - val_loss: 1.2725 - val_accuracy: 0.6741\n"
          ]
        },
        {
          "name": "stderr",
          "output_type": "stream",
          "text": [
            "/usr/local/lib/python3.10/dist-packages/keras/src/engine/training.py:3103: UserWarning: You are saving your model as an HDF5 file via `model.save()`. This file format is considered legacy. We recommend using instead the native Keras format, e.g. `model.save('my_model.keras')`.\n",
            "  saving_api.save_model(\n"
          ]
        }
      ],
      "source": [
        "import tensorflow as tf\n",
        "from tensorflow.keras.models import Sequential\n",
        "from tensorflow.keras.layers import Conv2D, MaxPooling2D, Flatten, Dense, Dropout\n",
        "from tensorflow.keras.preprocessing.image import ImageDataGenerator\n",
        "\n",
        "# Image dimensions\n",
        "img_width, img_height = 150, 150\n",
        "\n",
        "# Directories\n",
        "train_data_dir = '/content/Pothole Classification.v2i.folder/train'                #Replace with the train folder path \n",
        "validation_data_dir = '/content/Pothole Classification.v2i.folder/valid'            #Replace with the validation images folder path \n",
        "test_data_dir = '/content/Pothole Classification.v2i.folder/test'                   #Replace with the test images folder path \n",
        "\n",
        "# Hyperparameters\n",
        "batch_size = 16\n",
        "epochs = 10\n",
        "\n",
        "# Model Architecture\n",
        "model = Sequential([\n",
        "    Conv2D(32, (3, 3), activation='relu', input_shape=(img_width, img_height, 3)),\n",
        "    MaxPooling2D(2, 2),\n",
        "    Conv2D(64, (3, 3), activation='relu'),\n",
        "    MaxPooling2D(2, 2),\n",
        "    Conv2D(128, (3, 3), activation='relu'),\n",
        "    MaxPooling2D(2, 2),\n",
        "    Flatten(),\n",
        "    Dense(512, activation='relu'),\n",
        "    Dropout(0.5),\n",
        "    Dense(1, activation='sigmoid')\n",
        "])\n",
        "\n",
        "# Compile the model\n",
        "model.compile(loss='binary_crossentropy',\n",
        "              optimizer='adam',\n",
        "              metrics=['accuracy'])\n",
        "\n",
        "# Data Preprocessing\n",
        "train_datagen = ImageDataGenerator(rescale=1./255,\n",
        "                                   rotation_range=40,\n",
        "                                   width_shift_range=0.2,\n",
        "                                   height_shift_range=0.2,\n",
        "                                   shear_range=0.2,\n",
        "                                   zoom_range=0.2,\n",
        "                                   horizontal_flip=True,\n",
        "                                   fill_mode='nearest')\n",
        "\n",
        "test_datagen = ImageDataGenerator(rescale=1./255)\n",
        "\n",
        "train_generator = train_datagen.flow_from_directory(\n",
        "    train_data_dir,\n",
        "    target_size=(img_width, img_height),\n",
        "    batch_size=batch_size,\n",
        "    class_mode='binary')\n",
        "\n",
        "validation_generator = test_datagen.flow_from_directory(\n",
        "    validation_data_dir,\n",
        "    target_size=(img_width, img_height),\n",
        "    batch_size=batch_size,\n",
        "    class_mode='binary')\n",
        "\n",
        "# Train the model\n",
        "model.fit(\n",
        "    train_generator,\n",
        "    steps_per_epoch=train_generator.samples // batch_size,\n",
        "    epochs=epochs,\n",
        "    validation_data=validation_generator,\n",
        "    validation_steps=validation_generator.samples // batch_size)\n",
        "\n",
        "# Save the model\n",
        "model.save('pothole_detection_model.h5')\n"
      ]
    },
    {
      "cell_type": "code",
      "execution_count": null,
      "metadata": {
        "colab": {
          "base_uri": "https://localhost:8080/"
        },
        "id": "XaDONk8yReBt",
        "outputId": "0d600489-2ddc-482b-b3b6-ce618487ed75"
      },
      "outputs": [
        {
          "name": "stdout",
          "output_type": "stream",
          "text": [
            "Found 231 images belonging to 2 classes.\n",
            "11/11 [==============================] - 1s 49ms/step - loss: 0.8867 - accuracy: 0.7864\n",
            "Test accuracy: 0.7863636612892151\n",
            "Test loss: 0.8866792321205139\n"
          ]
        }
      ],
      "source": [
        "from tensorflow.keras.models import load_model\n",
        "from tensorflow.keras.preprocessing.image import ImageDataGenerator\n",
        "\n",
        "# Path to your test set\n",
        "test_data_dir = '/content/Pothole Classification.v2i.folder/test'\n",
        "\n",
        "# Load the saved model\n",
        "model = load_model('pothole_detection_model.h5')\n",
        "\n",
        "# Prepare your test images in the same way as your training and validation images\n",
        "test_datagen = ImageDataGenerator(rescale=1./255)\n",
        "\n",
        "test_generator = test_datagen.flow_from_directory(\n",
        "    test_data_dir,\n",
        "    target_size=(150, 150),\n",
        "    batch_size=20,\n",
        "    class_mode='binary',\n",
        "    shuffle=False)\n",
        "\n",
        "# Evaluate the model on the test set\n",
        "test_loss, test_acc = model.evaluate(test_generator, steps=test_generator.samples // 20)\n",
        "print('Test accuracy:', test_acc)\n",
        "print('Test loss:', test_loss)\n"
      ]
    },
    {
      "cell_type": "code",
      "execution_count": null,
      "metadata": {
        "colab": {
          "base_uri": "https://localhost:8080/"
        },
        "id": "Zv2YM_-OdtWU",
        "outputId": "ea1f0a16-450a-4540-bd4a-5d57faef01ef"
      },
      "outputs": [
        {
          "name": "stderr",
          "output_type": "stream",
          "text": [
            "WARNING:tensorflow:`input_shape` is undefined or non-square, or `rows` is not in [96, 128, 160, 192, 224]. Weights for input shape (224, 224) will be loaded as the default.\n"
          ]
        },
        {
          "name": "stdout",
          "output_type": "stream",
          "text": [
            "Downloading data from https://storage.googleapis.com/tensorflow/keras-applications/mobilenet_v2/mobilenet_v2_weights_tf_dim_ordering_tf_kernels_1.0_224_no_top.h5\n",
            "9406464/9406464 [==============================] - 0s 0us/step\n",
            "Found 1794 images belonging to 2 classes.\n",
            "Found 236 images belonging to 2 classes.\n",
            "Epoch 1/11\n",
            "112/112 [==============================] - 26s 166ms/step - loss: 1.7240 - accuracy: 0.9702 - val_loss: 6.0102 - val_accuracy: 0.8571\n",
            "Epoch 2/11\n",
            "112/112 [==============================] - 16s 143ms/step - loss: 0.4222 - accuracy: 0.9865 - val_loss: 2.5241 - val_accuracy: 0.9152\n",
            "Epoch 3/11\n",
            "112/112 [==============================] - 17s 151ms/step - loss: 0.2033 - accuracy: 0.9904 - val_loss: 1.8037 - val_accuracy: 0.9241\n",
            "Epoch 4/11\n",
            "112/112 [==============================] - 16s 147ms/step - loss: 0.1742 - accuracy: 0.9899 - val_loss: 0.5797 - val_accuracy: 0.9554\n",
            "Epoch 5/11\n",
            "112/112 [==============================] - 17s 153ms/step - loss: 0.1312 - accuracy: 0.9854 - val_loss: 1.1320 - val_accuracy: 0.9152\n",
            "Epoch 6/11\n",
            "112/112 [==============================] - 16s 146ms/step - loss: 0.0313 - accuracy: 0.9949 - val_loss: 0.9154 - val_accuracy: 0.9375\n",
            "Epoch 7/11\n",
            "112/112 [==============================] - 17s 153ms/step - loss: 0.0276 - accuracy: 0.9978 - val_loss: 1.9646 - val_accuracy: 0.8929\n",
            "Epoch 8/11\n",
            "112/112 [==============================] - 16s 143ms/step - loss: 0.1262 - accuracy: 0.9893 - val_loss: 1.0370 - val_accuracy: 0.9375\n",
            "Epoch 9/11\n",
            "112/112 [==============================] - 17s 147ms/step - loss: 0.0791 - accuracy: 0.9927 - val_loss: 1.2553 - val_accuracy: 0.9330\n",
            "Epoch 10/11\n",
            "112/112 [==============================] - 18s 157ms/step - loss: 0.0531 - accuracy: 0.9949 - val_loss: 0.7972 - val_accuracy: 0.9420\n",
            "Epoch 11/11\n",
            "112/112 [==============================] - 16s 147ms/step - loss: 0.0335 - accuracy: 0.9978 - val_loss: 1.0315 - val_accuracy: 0.9375\n"
          ]
        },
        {
          "name": "stderr",
          "output_type": "stream",
          "text": [
            "/usr/local/lib/python3.10/dist-packages/keras/src/engine/training.py:3103: UserWarning: You are saving your model as an HDF5 file via `model.save()`. This file format is considered legacy. We recommend using instead the native Keras format, e.g. `model.save('my_model.keras')`.\n",
            "  saving_api.save_model(\n"
          ]
        }
      ],
      "source": [
        "\n",
        "import tensorflow as tf\n",
        "from tensorflow.keras.applications import MobileNetV2\n",
        "from tensorflow.keras.layers import Input, Lambda, Dense, Flatten, Dropout\n",
        "from tensorflow.keras.models import Model\n",
        "from tensorflow.keras.preprocessing.image import ImageDataGenerator\n",
        "\n",
        "# Image dimensions\n",
        "img_width, img_height = 150, 150\n",
        "\n",
        "# Define input shape for MobileNetV2\n",
        "input_shape = (img_width, img_height, 3)\n",
        "\n",
        "batch_size=16\n",
        "epochs=11\n",
        "\n",
        "# Load the base MobileNetV2 model, excluding its top (fully connected) layers\n",
        "base_model = MobileNetV2(weights='imagenet', include_top=False, input_shape=input_shape)\n",
        "\n",
        "# Freeze the layers of the base model to prevent them from being updated during training\n",
        "for layer in base_model.layers:\n",
        "    layer.trainable = False\n",
        "\n",
        "# Create the model's top layers\n",
        "x = Flatten()(base_model.output)\n",
        "x = Dense(512, activation='relu')(x)\n",
        "x = Dropout(0.5)(x)\n",
        "predictions = Dense(1, activation='sigmoid')(x)\n",
        "\n",
        "# This is the model we will train\n",
        "model = Model(inputs=base_model.input, outputs=predictions)\n",
        "\n",
        "# Compile the model\n",
        "model.compile(optimizer='adam', loss='binary_crossentropy', metrics=['accuracy'])\n",
        "\n",
        "# Data preprocessing\n",
        "train_datagen = ImageDataGenerator(\n",
        "    rescale=1./255,\n",
        "    rotation_range=40,\n",
        "    width_shift_range=0.2,\n",
        "    height_shift_range=0.2,\n",
        "    shear_range=0.2,\n",
        "    zoom_range=0.2,\n",
        "    horizontal_flip=True,\n",
        "    fill_mode='nearest'\n",
        ")\n",
        "\n",
        "test_datagen = ImageDataGenerator(rescale=1./255)\n",
        "\n",
        "# Training and validation generators\n",
        "train_generator = train_datagen.flow_from_directory(\n",
        "    '/content/Pothole Classification.v2i.folder/train',\n",
        "    target_size=(img_width, img_height),\n",
        "    batch_size=batch_size,\n",
        "    class_mode='binary'\n",
        ")\n",
        "\n",
        "validation_generator = test_datagen.flow_from_directory(\n",
        "    '/content/Pothole Classification.v2i.folder/valid',\n",
        "    target_size=(img_width, img_height),\n",
        "    batch_size=batch_size,\n",
        "    class_mode='binary'\n",
        ")\n",
        "\n",
        "# Train the model\n",
        "model.fit(\n",
        "    train_generator,\n",
        "    steps_per_epoch=train_generator.samples // batch_size,\n",
        "    epochs=epochs,\n",
        "    validation_data=validation_generator,\n",
        "    validation_steps=validation_generator.samples // batch_size\n",
        ")\n",
        "\n",
        "# Save the model\n",
        "model.save('pothole_detection_model_with_pretrained.h5')\n"
      ]
    },
    {
      "cell_type": "markdown",
      "metadata": {
        "id": "KBxVg-i9KhZO"
      },
      "source": [
        "MOBILE NET WITH TIME MODULE"
      ]
    },
    {
      "cell_type": "code",
      "execution_count": null,
      "metadata": {
        "colab": {
          "base_uri": "https://localhost:8080/"
        },
        "id": "NiaqHKuM-qNd",
        "outputId": "8f38c168-b3e6-4f23-d452-8f07df1f2782"
      },
      "outputs": [
        {
          "name": "stderr",
          "output_type": "stream",
          "text": [
            "WARNING:tensorflow:`input_shape` is undefined or non-square, or `rows` is not in [96, 128, 160, 192, 224]. Weights for input shape (224, 224) will be loaded as the default.\n"
          ]
        },
        {
          "name": "stdout",
          "output_type": "stream",
          "text": [
            "Downloading data from https://storage.googleapis.com/tensorflow/keras-applications/mobilenet_v2/mobilenet_v2_weights_tf_dim_ordering_tf_kernels_1.0_224_no_top.h5\n",
            "9406464/9406464 [==============================] - 0s 0us/step\n",
            "Found 1794 images belonging to 2 classes.\n",
            "Found 236 images belonging to 2 classes.\n",
            "Epoch 1/11\n",
            "112/112 [==============================] - 25s 157ms/step - loss: 2.2080 - accuracy: 0.9663 - val_loss: 8.4840 - val_accuracy: 0.8125\n",
            "Epoch 2/11\n",
            "112/112 [==============================] - 16s 139ms/step - loss: 0.5713 - accuracy: 0.9826 - val_loss: 2.2524 - val_accuracy: 0.9464\n",
            "Epoch 3/11\n",
            "112/112 [==============================] - 16s 143ms/step - loss: 0.2849 - accuracy: 0.9888 - val_loss: 1.5780 - val_accuracy: 0.9420\n",
            "Epoch 4/11\n",
            "112/112 [==============================] - 16s 141ms/step - loss: 0.1133 - accuracy: 0.9927 - val_loss: 0.9570 - val_accuracy: 0.9688\n",
            "Epoch 5/11\n",
            "112/112 [==============================] - 17s 149ms/step - loss: 0.2648 - accuracy: 0.9893 - val_loss: 3.7494 - val_accuracy: 0.8839\n",
            "Epoch 6/11\n",
            "112/112 [==============================] - 16s 138ms/step - loss: 0.0972 - accuracy: 0.9921 - val_loss: 10.9517 - val_accuracy: 0.7902\n",
            "Epoch 7/11\n",
            "112/112 [==============================] - 17s 154ms/step - loss: 0.1885 - accuracy: 0.9921 - val_loss: 2.6188 - val_accuracy: 0.9107\n",
            "Epoch 8/11\n",
            "112/112 [==============================] - 16s 145ms/step - loss: 0.1675 - accuracy: 0.9921 - val_loss: 6.1999 - val_accuracy: 0.8571\n",
            "Epoch 9/11\n",
            "112/112 [==============================] - 16s 139ms/step - loss: 0.1426 - accuracy: 0.9910 - val_loss: 1.5036 - val_accuracy: 0.9464\n",
            "Epoch 10/11\n",
            "112/112 [==============================] - 16s 145ms/step - loss: 0.2324 - accuracy: 0.9916 - val_loss: 2.9816 - val_accuracy: 0.9196\n",
            "Epoch 11/11\n",
            "112/112 [==============================] - 17s 150ms/step - loss: 0.1540 - accuracy: 0.9938 - val_loss: 0.8746 - val_accuracy: 0.9643\n",
            "Training time: 205.202871799469 seconds\n"
          ]
        },
        {
          "name": "stderr",
          "output_type": "stream",
          "text": [
            "/usr/local/lib/python3.10/dist-packages/keras/src/engine/training.py:3103: UserWarning: You are saving your model as an HDF5 file via `model.save()`. This file format is considered legacy. We recommend using instead the native Keras format, e.g. `model.save('my_model.keras')`.\n",
            "  saving_api.save_model(\n"
          ]
        }
      ],
      "source": [
        "import time\n",
        "import tensorflow as tf\n",
        "from tensorflow.keras.applications import MobileNetV2\n",
        "from tensorflow.keras.layers import Input, Lambda, Dense, Flatten, Dropout\n",
        "from tensorflow.keras.models import Model\n",
        "from tensorflow.keras.preprocessing.image import ImageDataGenerator\n",
        "\n",
        "# Image dimensions\n",
        "img_width, img_height = 150, 150\n",
        "\n",
        "# Define input shape for MobileNetV2\n",
        "input_shape = (img_width, img_height, 3)\n",
        "\n",
        "batch_size=16\n",
        "epochs=11\n",
        "\n",
        "# Load the base MobileNetV2 model, excluding its top (fully connected) layers\n",
        "base_model = MobileNetV2(weights='imagenet', include_top=False, input_shape=input_shape)\n",
        "\n",
        "# Freeze the layers of the base model to prevent them from being updated during training\n",
        "for layer in base_model.layers:\n",
        "    layer.trainable = False\n",
        "\n",
        "# Create the model's top layers\n",
        "x = Flatten()(base_model.output)\n",
        "x = Dense(512, activation='relu')(x)\n",
        "x = Dropout(0.5)(x)\n",
        "predictions = Dense(1, activation='sigmoid')(x)\n",
        "\n",
        "# This is the model we will train\n",
        "model = Model(inputs=base_model.input, outputs=predictions)\n",
        "\n",
        "# Compile the model\n",
        "model.compile(optimizer='adam', loss='binary_crossentropy', metrics=['accuracy'])\n",
        "\n",
        "# Data preprocessing\n",
        "train_datagen = ImageDataGenerator(\n",
        "    rescale=1./255,\n",
        "    rotation_range=40,\n",
        "    width_shift_range=0.2,\n",
        "    height_shift_range=0.2,\n",
        "    shear_range=0.2,\n",
        "    zoom_range=0.2,\n",
        "    horizontal_flip=True,\n",
        "    fill_mode='nearest'\n",
        ")\n",
        "\n",
        "test_datagen = ImageDataGenerator(rescale=1./255)\n",
        "\n",
        "# Training and validation generators\n",
        "train_generator = train_datagen.flow_from_directory(\n",
        "    '/content/Pothole Classification.v2i.folder/train',\n",
        "    target_size=(img_width, img_height),\n",
        "    batch_size=batch_size,\n",
        "    class_mode='binary'\n",
        ")\n",
        "\n",
        "validation_generator = test_datagen.flow_from_directory(\n",
        "    '/content/Pothole Classification.v2i.folder/valid',\n",
        "    target_size=(img_width, img_height),\n",
        "    batch_size=batch_size,\n",
        "    class_mode='binary'\n",
        ")\n",
        "\n",
        "start_time = time.time()\n",
        "# Train the model\n",
        "model.fit(\n",
        "    train_generator,\n",
        "    steps_per_epoch=train_generator.samples // batch_size,\n",
        "    epochs=epochs,\n",
        "    validation_data=validation_generator,\n",
        "    validation_steps=validation_generator.samples // batch_size\n",
        ")\n",
        "\n",
        "end_time = time.time()\n",
        "\n",
        "total_time = end_time - start_time\n",
        "print(f\"Training time: {total_time} seconds\")\n",
        "# Save the model\n",
        "model.save('pothole_detection_model_with_pretrained.h5')\n"
      ]
    },
    {
      "cell_type": "code",
      "execution_count": null,
      "metadata": {
        "colab": {
          "base_uri": "https://localhost:8080/"
        },
        "id": "IBdfWeZnE2oY",
        "outputId": "795ce4ef-2c84-464f-9a09-546a8176a5a2"
      },
      "outputs": [
        {
          "name": "stdout",
          "output_type": "stream",
          "text": [
            "Found 231 images belonging to 2 classes.\n",
            "11/11 [==============================] - 3s 77ms/step - loss: 0.2336 - accuracy: 0.9727\n",
            "Test accuracy: 0.9727272987365723\n",
            "Test loss: 0.23362088203430176\n"
          ]
        }
      ],
      "source": [
        "from tensorflow.keras.models import load_model\n",
        "from tensorflow.keras.preprocessing.image import ImageDataGenerator\n",
        "\n",
        "# Path to your test set\n",
        "test_data_dir = '/content/Pothole Classification.v2i.folder/test'\n",
        "\n",
        "# Load the saved model\n",
        "model = load_model('pothole_detection_model_with_pretrained.h5')\n",
        "\n",
        "# Prepare your test images in the same way as your training and validation images\n",
        "test_datagen = ImageDataGenerator(rescale=1./255)\n",
        "\n",
        "test_generator = test_datagen.flow_from_directory(\n",
        "    test_data_dir,\n",
        "    target_size=(150, 150),\n",
        "    batch_size=20,\n",
        "    class_mode='binary',\n",
        "    shuffle=False)\n",
        "\n",
        "# Evaluate the model on the test set\n",
        "test_loss, test_acc = model.evaluate(test_generator, steps=test_generator.samples // 20)\n",
        "print('Test accuracy:', test_acc)\n",
        "print('Test loss:', test_loss)\n"
      ]
    },
    {
      "cell_type": "markdown",
      "metadata": {
        "id": "h99CuJ9Hji0B"
      },
      "source": [
        "BY SQUEEZE NET AND MODEL PRUNING\n"
      ]
    },
    {
      "cell_type": "code",
      "execution_count": null,
      "metadata": {
        "id": "wIUWgp9Bjpgb"
      },
      "outputs": [],
      "source": [
        "import tensorflow as tf\n",
        "from tensorflow.keras.layers import Input, Conv2D, MaxPooling2D, Activation, concatenate, Dropout, GlobalAveragePooling2D, Dense\n",
        "from tensorflow.keras.models import Model\n",
        "\n",
        "def fire_module(x, squeeze_filters, expand_filters):\n",
        "    # Squeeze layer\n",
        "    squeeze = Conv2D(squeeze_filters, (1, 1), padding='same', activation='relu')(x)\n",
        "    # Expand layer 1x1\n",
        "    expand_1x1 = Conv2D(expand_filters, (1, 1), padding='same', activation='relu')(squeeze)\n",
        "    # Expand layer 3x3\n",
        "    expand_3x3 = Conv2D(expand_filters, (3, 3), padding='same', activation='relu')(squeeze)\n",
        "    return concatenate([expand_1x1, expand_3x3])\n",
        "\n",
        "# Input layer\n",
        "inputs = Input(shape=(150, 150, 3))\n",
        "\n",
        "# Initial convolution layer\n",
        "x = Conv2D(64, (3, 3), strides=(2, 2), padding='same', activation='relu')(inputs)\n",
        "x = MaxPooling2D(pool_size=(3, 3), strides=(2, 2))(x)\n",
        "\n",
        "# Add Fire modules\n",
        "x = fire_module(x, 16, 64)\n",
        "x = fire_module(x, 16, 64)\n",
        "x = MaxPooling2D(pool_size=(3, 3), strides=(2, 2))(x)\n",
        "\n",
        "x = fire_module(x, 32, 128)\n",
        "x = fire_module(x, 32, 128)\n",
        "x = MaxPooling2D(pool_size=(3, 3), strides=(2, 2))(x)\n",
        "\n",
        "x = fire_module(x, 48, 192)\n",
        "x = fire_module(x, 48, 192)\n",
        "x = fire_module(x, 64, 256)\n",
        "x = fire_module(x, 64, 256)\n",
        "\n",
        "# Finish with global averaging and a classifier\n",
        "x = GlobalAveragePooling2D()(x)\n",
        "x = Dropout(0.5)(x)\n",
        "outputs = Dense(1, activation='sigmoid')(x)\n",
        "\n",
        "model_squeeze= Model(inputs=inputs, outputs=outputs)\n",
        "model_squeeze.compile(optimizer='adam', loss='binary_crossentropy', metrics=['accuracy'])\n"
      ]
    },
    {
      "cell_type": "code",
      "execution_count": null,
      "metadata": {
        "colab": {
          "base_uri": "https://localhost:8080/"
        },
        "id": "q65gdvjajpcA",
        "outputId": "714f93e2-29b5-47fc-cc8d-133ac17353cc"
      },
      "outputs": [
        {
          "name": "stdout",
          "output_type": "stream",
          "text": [
            "Found 1794 images belonging to 2 classes.\n",
            "Found 236 images belonging to 2 classes.\n",
            "Epoch 1/10\n",
            "112/112 [==============================] - 32s 166ms/step - loss: 0.1749 - accuracy: 0.9651 - val_loss: 1.5725 - val_accuracy: 0.5536\n",
            "Epoch 2/10\n",
            "112/112 [==============================] - 16s 143ms/step - loss: 0.1459 - accuracy: 0.9696 - val_loss: 1.8817 - val_accuracy: 0.5402\n",
            "Epoch 3/10\n",
            "112/112 [==============================] - 16s 142ms/step - loss: 0.1481 - accuracy: 0.9696 - val_loss: 1.3662 - val_accuracy: 0.5402\n",
            "Epoch 4/10\n",
            "112/112 [==============================] - 16s 144ms/step - loss: 0.1399 - accuracy: 0.9702 - val_loss: 2.1463 - val_accuracy: 0.5357\n",
            "Epoch 5/10\n",
            "112/112 [==============================] - 17s 152ms/step - loss: 0.1415 - accuracy: 0.9702 - val_loss: 1.2578 - val_accuracy: 0.5446\n",
            "Epoch 6/10\n",
            "112/112 [==============================] - 16s 144ms/step - loss: 0.1361 - accuracy: 0.9702 - val_loss: 1.7198 - val_accuracy: 0.5312\n",
            "Epoch 7/10\n",
            "112/112 [==============================] - 16s 147ms/step - loss: 0.1404 - accuracy: 0.9696 - val_loss: 1.2955 - val_accuracy: 0.5536\n",
            "Epoch 8/10\n",
            "112/112 [==============================] - 16s 145ms/step - loss: 0.1608 - accuracy: 0.9696 - val_loss: 1.3778 - val_accuracy: 0.5357\n",
            "Epoch 9/10\n",
            "112/112 [==============================] - 16s 143ms/step - loss: 0.1408 - accuracy: 0.9708 - val_loss: 1.4518 - val_accuracy: 0.5268\n",
            "Epoch 10/10\n",
            "112/112 [==============================] - 16s 142ms/step - loss: 0.1391 - accuracy: 0.9702 - val_loss: 1.5755 - val_accuracy: 0.5625\n"
          ]
        },
        {
          "name": "stderr",
          "output_type": "stream",
          "text": [
            "/usr/local/lib/python3.10/dist-packages/keras/src/engine/training.py:3103: UserWarning: You are saving your model as an HDF5 file via `model.save()`. This file format is considered legacy. We recommend using instead the native Keras format, e.g. `model.save('my_model.keras')`.\n",
            "  saving_api.save_model(\n"
          ]
        }
      ],
      "source": [
        "from tensorflow.keras.preprocessing.image import ImageDataGenerator\n",
        "\n",
        "# Data preprocessing\n",
        "train_datagen = ImageDataGenerator(\n",
        "    rescale=1./255,\n",
        "    rotation_range=40,\n",
        "    width_shift_range=0.2,\n",
        "    height_shift_range=0.2,\n",
        "    shear_range=0.2,\n",
        "    zoom_range=0.2,\n",
        "    horizontal_flip=True,\n",
        "    fill_mode='nearest'\n",
        ")\n",
        "\n",
        "test_datagen = ImageDataGenerator(rescale=1./255)\n",
        "\n",
        "# Training and validation generators\n",
        "train_generator = train_datagen.flow_from_directory(\n",
        "    '/content/Pothole Classification.v2i.folder/train',\n",
        "    target_size=(150, 150),\n",
        "    batch_size=16,\n",
        "    class_mode='binary'\n",
        ")\n",
        "\n",
        "validation_generator = test_datagen.flow_from_directory(\n",
        "    '/content/Pothole Classification.v2i.folder/valid',\n",
        "    target_size=(150, 150),\n",
        "    batch_size=16,\n",
        "    class_mode='binary'\n",
        ")\n",
        "\n",
        "# Train the model\n",
        "model_squeeze.fit(\n",
        "    train_generator,\n",
        "    steps_per_epoch=train_generator.samples // 16,\n",
        "    epochs=10,\n",
        "    validation_data=validation_generator,\n",
        "    validation_steps=validation_generator.samples // 16\n",
        ")\n",
        "\n",
        "# Save the model\n",
        "model_squeeze.save('pothole_detection_squeezenet_model.h5')\n"
      ]
    },
    {
      "cell_type": "code",
      "execution_count": null,
      "metadata": {
        "id": "p4610ig5XNdw"
      },
      "outputs": [],
      "source": []
    },
    {
      "cell_type": "markdown",
      "metadata": {
        "id": "qZ0OMVRtXOCv"
      },
      "source": [
        "Squeezenet with time module"
      ]
    },
    {
      "cell_type": "code",
      "execution_count": null,
      "metadata": {
        "colab": {
          "base_uri": "https://localhost:8080/"
        },
        "id": "djJoDT6IXNhH",
        "outputId": "f08c210c-f248-494f-8278-fd8e2a52a33e"
      },
      "outputs": [
        {
          "name": "stdout",
          "output_type": "stream",
          "text": [
            "Found 1794 images belonging to 2 classes.\n",
            "Found 236 images belonging to 2 classes.\n",
            "Epoch 1/10\n",
            "112/112 [==============================] - 28s 157ms/step - loss: 0.1821 - accuracy: 0.9629 - val_loss: 2.8398 - val_accuracy: 0.5491\n",
            "Epoch 2/10\n",
            "112/112 [==============================] - 16s 146ms/step - loss: 0.1473 - accuracy: 0.9696 - val_loss: 2.1120 - val_accuracy: 0.5402\n",
            "Epoch 3/10\n",
            "112/112 [==============================] - 16s 145ms/step - loss: 0.1429 - accuracy: 0.9696 - val_loss: 1.8088 - val_accuracy: 0.5446\n",
            "Epoch 4/10\n",
            "112/112 [==============================] - 16s 143ms/step - loss: 0.1407 - accuracy: 0.9696 - val_loss: 1.7971 - val_accuracy: 0.5402\n",
            "Epoch 5/10\n",
            "112/112 [==============================] - 18s 157ms/step - loss: 0.1373 - accuracy: 0.9713 - val_loss: 1.6747 - val_accuracy: 0.5446\n",
            "Epoch 6/10\n",
            "112/112 [==============================] - 17s 154ms/step - loss: 0.1409 - accuracy: 0.9696 - val_loss: 1.5491 - val_accuracy: 0.5446\n",
            "Epoch 7/10\n",
            "112/112 [==============================] - 16s 141ms/step - loss: 0.1411 - accuracy: 0.9696 - val_loss: 1.9153 - val_accuracy: 0.5357\n",
            "Epoch 8/10\n",
            "112/112 [==============================] - 16s 145ms/step - loss: 0.1387 - accuracy: 0.9696 - val_loss: 1.6387 - val_accuracy: 0.5446\n",
            "Epoch 9/10\n",
            "112/112 [==============================] - 17s 149ms/step - loss: 0.1363 - accuracy: 0.9708 - val_loss: 1.3352 - val_accuracy: 0.5446\n",
            "Epoch 10/10\n",
            "112/112 [==============================] - 16s 139ms/step - loss: 0.1445 - accuracy: 0.9696 - val_loss: 1.6462 - val_accuracy: 0.5268\n",
            "Training time: 205.27632784843445 seconds\n"
          ]
        }
      ],
      "source": [
        "import time\n",
        "from tensorflow.keras.preprocessing.image import ImageDataGenerator\n",
        "\n",
        "# Data preprocessing\n",
        "train_datagen = ImageDataGenerator(\n",
        "    rescale=1./255,\n",
        "    rotation_range=40,\n",
        "    width_shift_range=0.2,\n",
        "    height_shift_range=0.2,\n",
        "    shear_range=0.2,\n",
        "    zoom_range=0.2,\n",
        "    horizontal_flip=True,\n",
        "    fill_mode='nearest'\n",
        ")\n",
        "\n",
        "test_datagen = ImageDataGenerator(rescale=1./255)\n",
        "\n",
        "# Training and validation generators\n",
        "train_generator = train_datagen.flow_from_directory(\n",
        "    '/content/Pothole Classification.v2i.folder/train',\n",
        "    target_size=(150, 150),\n",
        "    batch_size=16,\n",
        "    class_mode='binary'\n",
        ")\n",
        "\n",
        "validation_generator = test_datagen.flow_from_directory(\n",
        "    '/content/Pothole Classification.v2i.folder/valid',\n",
        "    target_size=(150, 150),\n",
        "    batch_size=16,\n",
        "    class_mode='binary'\n",
        ")\n",
        "start_time = time.time()\n",
        "# Train the model\n",
        "model_squeeze.fit(\n",
        "    train_generator,\n",
        "    steps_per_epoch=train_generator.samples // 16,\n",
        "    epochs=10,\n",
        "    validation_data=validation_generator,\n",
        "    validation_steps=validation_generator.samples // 16\n",
        ")\n",
        "end_time = time.time()\n",
        "\n",
        "total_time = end_time - start_time\n",
        "print(f\"Training time: {total_time} seconds\")\n",
        "# Save the model\n",
        "model_squeeze.save('pothole_detection_squeezenet_model.h5')\n"
      ]
    },
    {
      "cell_type": "code",
      "execution_count": null,
      "metadata": {
        "colab": {
          "base_uri": "https://localhost:8080/"
        },
        "id": "eGXNsYgtlzkA",
        "outputId": "ff7e28a7-7eff-4154-8a56-046c9d7f8a97"
      },
      "outputs": [
        {
          "name": "stdout",
          "output_type": "stream",
          "text": [
            "Collecting tensorflow-model-optimization\n",
            "  Downloading tensorflow_model_optimization-0.8.0-py2.py3-none-any.whl (242 kB)\n",
            "\u001b[2K     \u001b[90m━━━━━━━━━━━━━━━━━━━━━━━━━━━━━━━━━━━━━━━━\u001b[0m \u001b[32m242.5/242.5 kB\u001b[0m \u001b[31m5.6 MB/s\u001b[0m eta \u001b[36m0:00:00\u001b[0m\n",
            "\u001b[?25hRequirement already satisfied: absl-py~=1.2 in /usr/local/lib/python3.10/dist-packages (from tensorflow-model-optimization) (1.4.0)\n",
            "Requirement already satisfied: dm-tree~=0.1.1 in /usr/local/lib/python3.10/dist-packages (from tensorflow-model-optimization) (0.1.8)\n",
            "Requirement already satisfied: numpy~=1.23 in /usr/local/lib/python3.10/dist-packages (from tensorflow-model-optimization) (1.25.2)\n",
            "Requirement already satisfied: six~=1.14 in /usr/local/lib/python3.10/dist-packages (from tensorflow-model-optimization) (1.16.0)\n",
            "Installing collected packages: tensorflow-model-optimization\n",
            "Successfully installed tensorflow-model-optimization-0.8.0\n"
          ]
        }
      ],
      "source": [
        "!pip install tensorflow-model-optimization\n"
      ]
    },
    {
      "cell_type": "code",
      "execution_count": null,
      "metadata": {
        "colab": {
          "base_uri": "https://localhost:8080/"
        },
        "id": "QWl_uZ5ekJPz",
        "outputId": "76da6c73-7fb3-4520-e904-ffc6ec324cdd"
      },
      "outputs": [
        {
          "name": "stdout",
          "output_type": "stream",
          "text": [
            "Epoch 1/10\n",
            "112/112 [==============================] - 42s 208ms/step - loss: 0.1377 - accuracy: 0.9708 - val_loss: 1.3349 - val_accuracy: 0.5536\n",
            "Epoch 2/10\n",
            "112/112 [==============================] - 18s 160ms/step - loss: 0.1396 - accuracy: 0.9696 - val_loss: 1.6427 - val_accuracy: 0.5402\n",
            "Epoch 3/10\n",
            "112/112 [==============================] - 18s 156ms/step - loss: 0.1408 - accuracy: 0.9696 - val_loss: 1.6551 - val_accuracy: 0.5402\n",
            "Epoch 4/10\n",
            "112/112 [==============================] - 18s 160ms/step - loss: 0.1414 - accuracy: 0.9696 - val_loss: 1.7813 - val_accuracy: 0.5312\n",
            "Epoch 5/10\n",
            "112/112 [==============================] - 18s 159ms/step - loss: 0.1365 - accuracy: 0.9696 - val_loss: 1.6334 - val_accuracy: 0.5402\n",
            "Epoch 6/10\n",
            "112/112 [==============================] - 19s 168ms/step - loss: 0.1373 - accuracy: 0.9696 - val_loss: 1.6489 - val_accuracy: 0.5402\n",
            "Epoch 7/10\n",
            "112/112 [==============================] - 18s 162ms/step - loss: 0.1434 - accuracy: 0.9696 - val_loss: 1.8362 - val_accuracy: 0.5402\n",
            "Epoch 8/10\n",
            "112/112 [==============================] - 18s 159ms/step - loss: 0.1396 - accuracy: 0.9702 - val_loss: 1.6370 - val_accuracy: 0.5446\n",
            "Epoch 9/10\n",
            "112/112 [==============================] - 19s 166ms/step - loss: 0.1421 - accuracy: 0.9696 - val_loss: 1.5475 - val_accuracy: 0.5446\n",
            "Epoch 10/10\n",
            "112/112 [==============================] - 18s 157ms/step - loss: 0.1423 - accuracy: 0.9696 - val_loss: 1.6119 - val_accuracy: 0.5446\n"
          ]
        },
        {
          "name": "stderr",
          "output_type": "stream",
          "text": [
            "WARNING:tensorflow:Compiled the loaded model, but the compiled metrics have yet to be built. `model.compile_metrics` will be empty until you train or evaluate the model.\n"
          ]
        }
      ],
      "source": [
        "import tensorflow as tf\n",
        "import tensorflow_model_optimization as tfmot\n",
        "\n",
        "# Assume `model` is the pre-trained model we want to prune\n",
        "prune_low_magnitude = tfmot.sparsity.keras.prune_low_magnitude\n",
        "\n",
        "# Define batch size and number of epochs\n",
        "batch_size = 16\n",
        "epochs = 10\n",
        "\n",
        "# Calculate the total number of steps per epoch (assuming train_generator is already defined)\n",
        "steps_per_epoch = train_generator.samples // batch_size\n",
        "\n",
        "# Calculate end_step\n",
        "end_step = steps_per_epoch * epochs\n",
        "\n",
        "# Define model for pruning using the specified parameters\n",
        "pruning_params = {\n",
        "    'pruning_schedule': tfmot.sparsity.keras.PolynomialDecay(\n",
        "        initial_sparsity=0.50,  # Initial sparsity level\n",
        "        final_sparsity=0.80,    # Final sparsity level\n",
        "        begin_step=0,\n",
        "        end_step=end_step\n",
        "    )\n",
        "}\n",
        "\n",
        "# Apply pruning wrapper to the entire model\n",
        "model_for_pruning = prune_low_magnitude(model_squeeze, **pruning_params)\n",
        "\n",
        "# Compile the pruned model\n",
        "model_for_pruning.compile(optimizer='adam',\n",
        "                          loss='binary_crossentropy',\n",
        "                          metrics=['accuracy'])\n",
        "\n",
        "# Add pruning callback\n",
        "callbacks = [\n",
        "    tfmot.sparsity.keras.UpdatePruningStep(),\n",
        "    tfmot.sparsity.keras.PruningSummaries(log_dir='/tmp/logs'),  # Log sparsity and other metrics in TensorBoard.\n",
        "]\n",
        "\n",
        "# Train and validate the pruned model\n",
        "model_for_pruning.fit(train_generator,\n",
        "                      steps_per_epoch=steps_per_epoch,\n",
        "                      epochs=epochs,\n",
        "                      validation_data=validation_generator,\n",
        "                      validation_steps=validation_generator.samples // batch_size,\n",
        "                      callbacks=callbacks)\n",
        "# Strip the pruning wrappers from the model\n",
        "model_stripped = tfmot.sparsity.keras.strip_pruning(model_for_pruning)\n",
        "\n",
        "# Save the stripped model\n",
        "model_stripped.save('pruned_pothole_detection_model.h5')\n",
        "\n"
      ]
    },
    {
      "cell_type": "markdown",
      "metadata": {
        "id": "8w6Pf_BIYwG4"
      },
      "source": [
        "Pruning with time"
      ]
    },
    {
      "cell_type": "code",
      "execution_count": null,
      "metadata": {
        "colab": {
          "base_uri": "https://localhost:8080/"
        },
        "id": "2R_47inKn5Pf",
        "outputId": "1851ade9-a0b3-4715-f041-57d674b381ee"
      },
      "outputs": [
        {
          "name": "stdout",
          "output_type": "stream",
          "text": [
            "Epoch 1/10\n",
            "112/112 [==============================] - 43s 203ms/step - loss: 0.1405 - accuracy: 0.9696 - val_loss: 1.6533 - val_accuracy: 0.5446\n",
            "Epoch 2/10\n",
            "112/112 [==============================] - 18s 157ms/step - loss: 0.1355 - accuracy: 0.9708 - val_loss: 1.5832 - val_accuracy: 0.5402\n",
            "Epoch 3/10\n",
            "112/112 [==============================] - 18s 162ms/step - loss: 0.1406 - accuracy: 0.9696 - val_loss: 1.5741 - val_accuracy: 0.5446\n",
            "Epoch 4/10\n",
            "112/112 [==============================] - 18s 157ms/step - loss: 0.1389 - accuracy: 0.9708 - val_loss: 1.6294 - val_accuracy: 0.5402\n",
            "Epoch 5/10\n",
            "112/112 [==============================] - 18s 159ms/step - loss: 0.1352 - accuracy: 0.9702 - val_loss: 1.6993 - val_accuracy: 0.5357\n",
            "Epoch 6/10\n",
            "112/112 [==============================] - 17s 150ms/step - loss: 0.1383 - accuracy: 0.9696 - val_loss: 1.6586 - val_accuracy: 0.5312\n",
            "Epoch 7/10\n",
            "112/112 [==============================] - 18s 159ms/step - loss: 0.1404 - accuracy: 0.9696 - val_loss: 1.7721 - val_accuracy: 0.5312\n",
            "Epoch 8/10\n",
            "112/112 [==============================] - 17s 156ms/step - loss: 0.1373 - accuracy: 0.9702 - val_loss: 1.7112 - val_accuracy: 0.5402\n",
            "Epoch 9/10\n",
            "112/112 [==============================] - 17s 152ms/step - loss: 0.1378 - accuracy: 0.9702 - val_loss: 1.5594 - val_accuracy: 0.5357\n",
            "Epoch 10/10\n",
            "112/112 [==============================] - 19s 167ms/step - loss: 0.1376 - accuracy: 0.9696 - val_loss: 1.8906 - val_accuracy: 0.5446\n"
          ]
        },
        {
          "name": "stderr",
          "output_type": "stream",
          "text": [
            "/usr/local/lib/python3.10/dist-packages/keras/src/engine/training.py:3103: UserWarning: You are saving your model as an HDF5 file via `model.save()`. This file format is considered legacy. We recommend using instead the native Keras format, e.g. `model.save('my_model.keras')`.\n",
            "  saving_api.save_model(\n",
            "WARNING:tensorflow:Compiled the loaded model, but the compiled metrics have yet to be built. `model.compile_metrics` will be empty until you train or evaluate the model.\n"
          ]
        },
        {
          "name": "stdout",
          "output_type": "stream",
          "text": [
            "Training time: 224.3570110797882 seconds\n"
          ]
        }
      ],
      "source": [
        "import time\n",
        "import tensorflow as tf\n",
        "import tensorflow_model_optimization as tfmot\n",
        "\n",
        "# Assume `model` is the pre-trained model we want to prune\n",
        "prune_low_magnitude = tfmot.sparsity.keras.prune_low_magnitude\n",
        "\n",
        "# Define batch size and number of epochs\n",
        "batch_size = 16\n",
        "epochs = 10\n",
        "\n",
        "# Calculate the total number of steps per epoch (assuming train_generator is already defined)\n",
        "steps_per_epoch = train_generator.samples // batch_size\n",
        "\n",
        "# Calculate end_step\n",
        "end_step = steps_per_epoch * epochs\n",
        "\n",
        "# Define model for pruning using the specified parameters\n",
        "pruning_params = {\n",
        "    'pruning_schedule': tfmot.sparsity.keras.PolynomialDecay(\n",
        "        initial_sparsity=0.50,  # Initial sparsity level\n",
        "        final_sparsity=0.80,    # Final sparsity level\n",
        "        begin_step=0,\n",
        "        end_step=end_step\n",
        "    )\n",
        "}\n",
        "\n",
        "# Apply pruning wrapper to the entire model\n",
        "model_for_pruning = prune_low_magnitude(model_squeeze, **pruning_params)\n",
        "\n",
        "# Compile the pruned model\n",
        "model_for_pruning.compile(optimizer='adam',\n",
        "                          loss='binary_crossentropy',\n",
        "                          metrics=['accuracy'])\n",
        "\n",
        "# Add pruning callback\n",
        "callbacks = [\n",
        "    tfmot.sparsity.keras.UpdatePruningStep(),\n",
        "    tfmot.sparsity.keras.PruningSummaries(log_dir='/tmp/logs'),  # Log sparsity and other metrics in TensorBoard.\n",
        "]\n",
        "start_time = time.time()\n",
        "# Train and validate the pruned model\n",
        "model_for_pruning.fit(train_generator,\n",
        "                      steps_per_epoch=steps_per_epoch,\n",
        "                      epochs=epochs,\n",
        "                      validation_data=validation_generator,\n",
        "                      validation_steps=validation_generator.samples // batch_size,\n",
        "                      callbacks=callbacks)\n",
        "\n",
        "end_time = time.time()\n",
        "\n",
        "total_time = end_time - start_time\n",
        "print(f\"Training time: {total_time} seconds\")\n",
        "# Strip the pruning wrappers from the model\n",
        "model_stripped = tfmot.sparsity.keras.strip_pruning(model_for_pruning)\n",
        "\n",
        "# Save the stripped model\n",
        "model_stripped.save('pruned_pothole_detection_model.h5')\n",
        "\n"
      ]
    },
    {
      "cell_type": "code",
      "execution_count": null,
      "metadata": {
        "colab": {
          "base_uri": "https://localhost:8080/",
          "height": 487
        },
        "id": "i9kMwthQYzDf",
        "outputId": "29bf3f6c-8b5c-450f-e8da-2fddc2cdac1f"
      },
      "outputs": [
        {
          "data": {
            "image/png": "[encoded data removed]",
            "text/plain": [
              "<Figure size 1000x500 with 1 Axes>"
            ]
          },
          "metadata": {},
          "output_type": "display_data"
        }
      ],
      "source": [
        "import matplotlib.pyplot as plt\n",
        "\n",
        "# Data from the user\n",
        "epochs = list(range(1, 11))\n",
        "train_accuracy = [0.9696, 0.9708, 0.9696, 0.9708, 0.9702, 0.9696, 0.9696, 0.9702, 0.9702, 0.9696]\n",
        "val_accuracy = [0.5446, 0.5402, 0.5446, 0.5402, 0.5357, 0.5312, 0.5312, 0.5402, 0.5357, 0.5446]\n",
        "\n",
        "# Creating the plot\n",
        "plt.figure(figsize=(10, 5))\n",
        "plt.plot(epochs, train_accuracy, label='Training Accuracy', marker='o')\n",
        "plt.plot(epochs, val_accuracy, label='Validation Accuracy', marker='o')\n",
        "plt.title('Training and Validation Accuracy over Epochs')\n",
        "plt.xlabel('Epochs')\n",
        "plt.ylabel('Accuracy')\n",
        "plt.xticks(epochs)\n",
        "plt.legend()\n",
        "plt.grid(True)\n",
        "plt.show()\n"
      ]
    },
    {
      "cell_type": "code",
      "execution_count": null,
      "metadata": {
        "colab": {
          "base_uri": "https://localhost:8080/",
          "height": 487
        },
        "id": "IgP750sEdd0C",
        "outputId": "207c8f8c-05e8-47ac-9f83-0fadb153690b"
      },
      "outputs": [
        {
          "data": {
            "image/png": "[encoded data removed]",
            "text/plain": [
              "<Figure size 1000x500 with 1 Axes>"
            ]
          },
          "metadata": {},
          "output_type": "display_data"
        }
      ],
      "source": [
        "import matplotlib.pyplot as plt\n",
        "\n",
        "# Data for epochs and validation loss\n",
        "epochs = list(range(1, 11))\n",
        "val_loss = [1.6533, 1.5832, 1.5741, 1.6294, 1.6993, 1.6586, 1.7721, 1.7112, 1.5594, 1.8906]\n",
        "\n",
        "# Creating the plot for validation loss across epochs\n",
        "plt.figure(figsize=(10, 5))\n",
        "plt.plot(epochs, val_loss, marker='o', linestyle='-', color='blue')\n",
        "plt.title('Validation Loss vs Epochs')\n",
        "plt.xlabel('Epoch')\n",
        "plt.ylabel('Validation Loss')\n",
        "plt.grid(True)\n",
        "plt.xticks(epochs)\n",
        "plt.show()\n"
      ]
    },
    {
      "cell_type": "code",
      "execution_count": null,
      "metadata": {
        "id": "T1ofmAlUeAwt"
      },
      "outputs": [],
      "source": []
    }
  ],
  "metadata": {
    "accelerator": "GPU",
    "colab": {
      "gpuType": "T4",
      "provenance": []
    },
    "kernelspec": {
      "display_name": "Python 3",
      "name": "python3"
    },
    "language_info": {
      "name": "python"
    }
  },
  "nbformat": 4,
  "nbformat_minor": 0
}
